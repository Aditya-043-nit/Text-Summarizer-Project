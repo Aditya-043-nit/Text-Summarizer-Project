{
 "cells": [
  {
   "cell_type": "code",
   "execution_count": 1,
   "id": "cb2aa0ca-e23f-41de-a039-75a91629a970",
   "metadata": {},
   "outputs": [],
   "source": [
    "import logging \n",
    "import os \n",
    "from pathlib import Path"
   ]
  },
  {
   "cell_type": "code",
   "execution_count": 2,
   "id": "63a487fa-591a-4b6e-b616-5d5663b591e9",
   "metadata": {},
   "outputs": [],
   "source": [
    "logging.basicConfig(level=logging.INFO, format='[%(asctime)s]: %(message)s:')"
   ]
  },
  {
   "cell_type": "code",
   "execution_count": 3,
   "id": "6c4fe36a-8960-4c10-b6c7-1fd89559f1bd",
   "metadata": {},
   "outputs": [],
   "source": [
    "project_name = \"textSummarizer\"\n",
    "list_of_files= [\n",
    "    \".github/workflow/.gitkeep\",\n",
    "    f\"src/{project_name}/__init__.py\",\n",
    "    f\"src/{project_name}/components/__init__.py\",\n",
    "    f\"src/{project_name}/utils/__init__.py\",\n",
    "    f\"src/{project_name}/utils/common.py\",\n",
    "    f\"src/{project_name}/logging//__init__.py\",\n",
    "    f\"src/{project_name}/config/__init__.py\",\n",
    "    f\"src/{project_name}/config/configuration.py\",\n",
    "    f\"src/{project_name}/pipeline/__init__.py\",\n",
    "    f\"src/{project_name}/entity/__init__.py\",\n",
    "    f\"src/{project_name}/constants/__init__.py\",\n",
    "    \"config/config.yaml\",\n",
    "    \"params.yaml\",\n",
    "    \"app.py\",\n",
    "    \"main.py\",\n",
    "    \"Dockerfile\",\n",
    "    \"requirements.txt\",\n",
    "    \"setup.py\",\n",
    "    \"research/trials.ipynb\"\n",
    "]"
   ]
  },
  {
   "cell_type": "code",
   "execution_count": 4,
   "id": "642f7aeb-8988-4583-b82e-e00c8536341c",
   "metadata": {},
   "outputs": [
    {
     "name": "stderr",
     "output_type": "stream",
     "text": [
      "[2025-04-10 16:01:17,855]: Creating directory:.github\\workflow for the file .gitkeep:\n",
      "[2025-04-10 16:01:17,861]: Creating empty file: .github\\workflow\\.gitkeep:\n",
      "[2025-04-10 16:01:17,867]: Creating directory:src\\textSummarizer for the file __init__.py:\n",
      "[2025-04-10 16:01:17,875]: Creating empty file: src\\textSummarizer\\__init__.py:\n",
      "[2025-04-10 16:01:17,879]: Creating directory:src\\textSummarizer\\components for the file __init__.py:\n",
      "[2025-04-10 16:01:17,883]: Creating empty file: src\\textSummarizer\\components\\__init__.py:\n",
      "[2025-04-10 16:01:17,887]: Creating directory:src\\textSummarizer\\utils for the file __init__.py:\n",
      "[2025-04-10 16:01:17,889]: Creating empty file: src\\textSummarizer\\utils\\__init__.py:\n",
      "[2025-04-10 16:01:17,893]: Creating directory:src\\textSummarizer\\utils for the file common.py:\n",
      "[2025-04-10 16:01:17,898]: Creating empty file: src\\textSummarizer\\utils\\common.py:\n",
      "[2025-04-10 16:01:17,902]: Creating directory:src\\textSummarizer\\logging for the file __init__.py:\n",
      "[2025-04-10 16:01:17,906]: Creating empty file: src\\textSummarizer\\logging\\__init__.py:\n",
      "[2025-04-10 16:01:17,910]: Creating directory:src\\textSummarizer\\config for the file __init__.py:\n",
      "[2025-04-10 16:01:17,913]: Creating empty file: src\\textSummarizer\\config\\__init__.py:\n",
      "[2025-04-10 16:01:17,916]: Creating directory:src\\textSummarizer\\config for the file configuration.py:\n",
      "[2025-04-10 16:01:17,919]: Creating empty file: src\\textSummarizer\\config\\configuration.py:\n",
      "[2025-04-10 16:01:17,923]: Creating directory:src\\textSummarizer\\pipeline for the file __init__.py:\n",
      "[2025-04-10 16:01:17,926]: Creating empty file: src\\textSummarizer\\pipeline\\__init__.py:\n",
      "[2025-04-10 16:01:17,930]: Creating directory:src\\textSummarizer\\entity for the file __init__.py:\n",
      "[2025-04-10 16:01:17,933]: Creating empty file: src\\textSummarizer\\entity\\__init__.py:\n",
      "[2025-04-10 16:01:17,937]: Creating directory:src\\textSummarizer\\constants for the file __init__.py:\n",
      "[2025-04-10 16:01:17,943]: Creating empty file: src\\textSummarizer\\constants\\__init__.py:\n",
      "[2025-04-10 16:01:17,948]: Creating directory:config for the file config.yaml:\n",
      "[2025-04-10 16:01:17,954]: Creating empty file: config\\config.yaml:\n",
      "[2025-04-10 16:01:17,962]: Creating empty file: params.yaml:\n",
      "[2025-04-10 16:01:17,968]: Creating empty file: app.py:\n",
      "[2025-04-10 16:01:17,975]: Creating empty file: main.py:\n",
      "[2025-04-10 16:01:17,980]: Creating empty file: Dockerfile:\n",
      "[2025-04-10 16:01:17,987]: Creating empty file: requirements.txt:\n",
      "[2025-04-10 16:01:17,992]: Creating empty file: setup.py:\n",
      "[2025-04-10 16:01:17,996]: Creating directory:research for the file trials.ipynb:\n",
      "[2025-04-10 16:01:18,000]: Creating empty file: research\\trials.ipynb:\n"
     ]
    },
    {
     "data": {
      "text/plain": [
       "WindowsPath('research/trials.ipynb')"
      ]
     },
     "execution_count": 4,
     "metadata": {},
     "output_type": "execute_result"
    }
   ],
   "source": [
    "for filepath in list_of_files:\n",
    "    filepath= Path(filepath)\n",
    "    filedir,filename = os.path.split(filepath)\n",
    "\n",
    "    if filedir != \"\":\n",
    "        os.makedirs(filedir, exist_ok = True)\n",
    "        logging.info(f\"Creating directory:{filedir} for the file {filename}\")\n",
    "\n",
    "    if (not os.path.exists(filepath)) or (os.path.getsize(filepath) == 0):\n",
    "        with open(filepath, 'w') as f:\n",
    "            pass\n",
    "            logging.info(f\"Creating empty file: {filepath}\")\n",
    "    else:\n",
    "        logging.info(f\"{filename} already exists\")\n",
    "filepath"
   ]
  },
  {
   "cell_type": "code",
   "execution_count": null,
   "id": "c794ad2f-2cab-4ef5-b966-16d899339e0a",
   "metadata": {},
   "outputs": [],
   "source": []
  }
 ],
 "metadata": {
  "kernelspec": {
   "display_name": "Python 3 (ipykernel)",
   "language": "python",
   "name": "python3"
  },
  "language_info": {
   "codemirror_mode": {
    "name": "ipython",
    "version": 3
   },
   "file_extension": ".py",
   "mimetype": "text/x-python",
   "name": "python",
   "nbconvert_exporter": "python",
   "pygments_lexer": "ipython3",
   "version": "3.13.2"
  }
 },
 "nbformat": 4,
 "nbformat_minor": 5
}
